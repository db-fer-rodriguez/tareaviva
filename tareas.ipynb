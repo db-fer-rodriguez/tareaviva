{
 "cells": [
  {
   "cell_type": "code",
   "execution_count": 1,
   "metadata": {},
   "outputs": [
    {
     "name": "stdout",
     "output_type": "stream",
     "text": [
      "Host: 127.0.0.1, User: root, Password: Admin123, Database: None, Port: 3306\n",
      "Conexión a MySQL exitosa!\n"
     ]
    }
   ],
   "source": [
    "from mysql_config import get_mysql_connection, close_mysql_connection\n",
    "\n",
    "connection = get_mysql_connection()\n",
    "\n",
    "if connection:\n",
    "    print(\"Conexión a MySQL exitosa!\")\n",
    "    close_mysql_connection(connection)\n",
    "else:\n",
    "    print(\"No se pudo conectar a MySQL.\")"
   ]
  },
  {
   "cell_type": "code",
   "execution_count": 2,
   "metadata": {},
   "outputs": [],
   "source": [
    "from mysql_config import get_mysql_connection, close_mysql_connection\n",
    "\n",
    "def crear_tarea(titulo, descripcion):\n",
    "    connection = get_mysql_connection()\n",
    "    if connection:\n",
    "        cursor = connection.cursor()\n",
    "        sql = \"INSERT INTO tareas (titulo, descripcion) VALUES (%s, %s)\"\n",
    "        val = (titulo, descripcion)\n",
    "        cursor.execute(sql, val)\n",
    "        connection.commit()\n",
    "        print(f\"Tarea '{titulo}' creada con éxito.\")\n",
    "        close_mysql_connection(connection)\n",
    "    else:\n",
    "        print(\"No se pudo conectar a MySQL.\")\n",
    "\n",
    "def consultar_tareas():\n",
    "    connection = get_mysql_connection()\n",
    "    if connection:\n",
    "        cursor = connection.cursor()\n",
    "        cursor.execute(\"SELECT * FROM tareas\")\n",
    "        tareas = cursor.fetchall()\n",
    "        for tarea in tareas:\n",
    "            print(tarea)\n",
    "        close_mysql_connection(connection)\n",
    "    else:\n",
    "        print(\"No se pudo conectar a MySQL.\")\n",
    "\n",
    "def eliminar_tarea(id_tarea):\n",
    "    connection = get_mysql_connection()\n",
    "    if connection:\n",
    "        cursor = connection.cursor()\n",
    "        sql = \"DELETE FROM tareas WHERE id = %s\"\n",
    "        val = (id_tarea,)\n",
    "        cursor.execute(sql, val)\n",
    "        connection.commit()\n",
    "        print(f\"Tarea con ID {id_tarea} eliminada con éxito.\")\n",
    "        close_mysql_connection(connection)\n",
    "    else:\n",
    "        print(\"No se pudo conectar a MySQL.\")"
   ]
  },
  {
   "cell_type": "code",
   "execution_count": null,
   "metadata": {},
   "outputs": [],
   "source": [
    "# Crear una tarea\n",
    "crear_tarea(\"Comprar leche\", \"Comprar leche descremada en el supermercado.\")\n",
    "\n",
    "# Consultar todas las tareas\n",
    "consultar_tareas()\n",
    "\n",
    "# Crear otra tarea\n",
    "crear_tarea(\"Llamar al médico\", \"Pedir cita para el próximo mes.\")\n",
    "\n",
    "# Consultar todas las tareas nuevamente\n",
    "consultar_tareas()\n",
    "\n",
    "# Eliminar la primera tarea (ID 1)\n",
    "eliminar_tarea(1)\n",
    "\n",
    "# Consultar todas las tareas después de eliminar\n",
    "consultar_tareas()"
   ]
  }
 ],
 "metadata": {
  "kernelspec": {
   "display_name": "Python 3",
   "language": "python",
   "name": "python3"
  },
  "language_info": {
   "codemirror_mode": {
    "name": "ipython",
    "version": 3
   },
   "file_extension": ".py",
   "mimetype": "text/x-python",
   "name": "python",
   "nbconvert_exporter": "python",
   "pygments_lexer": "ipython3",
   "version": "3.13.2"
  }
 },
 "nbformat": 4,
 "nbformat_minor": 2
}
