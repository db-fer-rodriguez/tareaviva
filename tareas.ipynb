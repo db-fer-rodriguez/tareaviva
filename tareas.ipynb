{
 "cells": [
  {
   "cell_type": "code",
   "execution_count": 13,
   "metadata": {},
   "outputs": [
    {
     "name": "stdout",
     "output_type": "stream",
     "text": [
      "Host: 127.0.0.1, User: root, Password: Admin123, Database: tarea_viva, Port: 3306\n",
      "Base de datos 'tarea_viva' seleccionada correctamente.\n",
      "Conexión a MySQL exitosa!\n"
     ]
    }
   ],
   "source": [
    "from mysql_config import get_mysql_connection, close_mysql_connection\n",
    "\n",
    "connection = get_mysql_connection()\n",
    "\n",
    "if connection:\n",
    "    print(\"Conexión a MySQL exitosa!\")\n",
    "    close_mysql_connection(connection)\n",
    "else:\n",
    "    print(\"No se pudo conectar a MySQL.\")"
   ]
  },
  {
   "cell_type": "code",
   "execution_count": 14,
   "metadata": {},
   "outputs": [],
   "source": [
    "from mysql_config import get_mysql_connection, close_mysql_connection\n",
    "\n",
    "def crear_tarea(titulo, descripcion, archivos=None):\n",
    "    try:\n",
    "        with get_mysql_connection() as connection:\n",
    "            if connection:\n",
    "                with connection.cursor() as cursor:\n",
    "                    sql = \"INSERT INTO tareas (titulo, descripcion) VALUES (%s, %s)\"\n",
    "                    val = (titulo, descripcion)\n",
    "                    cursor.execute(sql, val)\n",
    "                    connection.commit()\n",
    "                    tarea_id = cursor.lastrowid  # Obtener el ID de la tarea recién creada\n",
    "                    print(f\"Tarea '{titulo}' creada con éxito. ID: {tarea_id}\")\n",
    "\n",
    "                    if archivos:\n",
    "                        for archivo in archivos:\n",
    "                            agregar_archivo(tarea_id, archivo[\"nombre_archivo\"], archivo[\"tipo_archivo\"], archivo[\"ruta_archivo\"])\n",
    "            else:\n",
    "                print(\"No se pudo conectar a MySQL.\")\n",
    "    except mysql.connector.Error as error:\n",
    "        print(f\"Error al crear la tarea: {error}\")\n",
    "\n",
    "def consultar_tareas():\n",
    "    try:\n",
    "        with get_mysql_connection() as connection:\n",
    "            if connection:\n",
    "                with connection.cursor() as cursor:\n",
    "                    cursor.execute(\"SELECT * FROM tareas\")\n",
    "                    tareas = cursor.fetchall()\n",
    "                    if tareas:\n",
    "                        print(\"Lista de tareas:\")\n",
    "                        for tarea in tareas:\n",
    "                            print(f\"ID: {tarea[0]}, Título: {tarea[1]}, Descripción: {tarea[2]}, Estado: {tarea[4]}\")\n",
    "                            consultar_archivos(tarea[0])  # Consultar archivos relacionados a la tarea\n",
    "                    else:\n",
    "                        print(\"No hay tareas registradas.\")\n",
    "            else:\n",
    "                print(\"No se pudo conectar a MySQL.\")\n",
    "    except mysql.connector.Error as error:\n",
    "        print(f\"Error al consultar las tareas: {error}\")\n",
    "\n",
    "def eliminar_tarea(id_tarea):\n",
    "    connection = get_mysql_connection()\n",
    "    if connection:\n",
    "        cursor = connection.cursor()\n",
    "        sql = \"DELETE FROM tareas WHERE id = %s\"\n",
    "        val = (id_tarea,)\n",
    "        cursor.execute(sql, val)\n",
    "        connection.commit()\n",
    "        print(f\"Tarea con ID {id_tarea} eliminada con éxito.\")\n",
    "        close_mysql_connection(connection)\n",
    "    else:\n",
    "        print(\"No se pudo conectar a MySQL.\")"
   ]
  },
  {
   "cell_type": "code",
   "execution_count": 15,
   "metadata": {},
   "outputs": [
    {
     "name": "stdout",
     "output_type": "stream",
     "text": [
      "Host: 127.0.0.1, User: root, Password: Admin123, Database: tarea_viva, Port: 3306\n",
      "Base de datos 'tarea_viva' seleccionada correctamente.\n",
      "Tarea 'Comprar leche' creada con éxito. ID: 7\n",
      "Host: 127.0.0.1, User: root, Password: Admin123, Database: tarea_viva, Port: 3306\n",
      "Base de datos 'tarea_viva' seleccionada correctamente.\n",
      "Lista de tareas:\n",
      "ID: 2, Título: Llamar al médico, Descripción: Pedir cita para el próximo mes., Estado: Pendiente\n",
      "Conexión a MongoDB Atlas exitosa!\n",
      "Consultando archivos para la tarea ID: 2\n",
      "Archivo encontrado: <mongo_models.Archivo object at 0x0000021F2CBC71D0>\n",
      "Tarea ID: 2, Nombre: Taller de Análisis.pdf, Tipo: Taller de Análisis, Ruta: C:/Users/Fernando/Downloads/Taller de Análisis.pdf\n",
      "ID: 3, Título: Comprar leche, Descripción: Comprar leche descremada en el supermercado., Estado: Pendiente\n",
      "Conexión a MongoDB Atlas exitosa!\n",
      "Consultando archivos para la tarea ID: 3\n",
      "ID: 4, Título: Comprar leche, Descripción: Comprar leche descremada en el supermercado., Estado: Pendiente\n",
      "Conexión a MongoDB Atlas exitosa!\n",
      "Consultando archivos para la tarea ID: 4\n",
      "ID: 5, Título: Comprar leche, Descripción:  en el supermercado., Estado: Pendiente\n",
      "Conexión a MongoDB Atlas exitosa!\n",
      "Consultando archivos para la tarea ID: 5\n",
      "ID: 6, Título: Llamar al médico, Descripción: Pedir cita para el ., Estado: Pendiente\n",
      "Conexión a MongoDB Atlas exitosa!\n",
      "Consultando archivos para la tarea ID: 6\n",
      "ID: 7, Título: Comprar leche, Descripción:  11111en el supermercado., Estado: Pendiente\n",
      "Conexión a MongoDB Atlas exitosa!\n",
      "Consultando archivos para la tarea ID: 7\n",
      "Host: 127.0.0.1, User: root, Password: Admin123, Database: tarea_viva, Port: 3306\n",
      "Base de datos 'tarea_viva' seleccionada correctamente.\n",
      "Tarea 'Llamar al médico' creada con éxito. ID: 8\n",
      "Host: 127.0.0.1, User: root, Password: Admin123, Database: tarea_viva, Port: 3306\n",
      "Base de datos 'tarea_viva' seleccionada correctamente.\n",
      "Lista de tareas:\n",
      "ID: 2, Título: Llamar al médico, Descripción: Pedir cita para el próximo mes., Estado: Pendiente\n",
      "Conexión a MongoDB Atlas exitosa!\n",
      "Consultando archivos para la tarea ID: 2\n",
      "Archivo encontrado: <mongo_models.Archivo object at 0x0000021F2CC26E50>\n",
      "Tarea ID: 2, Nombre: Taller de Análisis.pdf, Tipo: Taller de Análisis, Ruta: C:/Users/Fernando/Downloads/Taller de Análisis.pdf\n",
      "ID: 3, Título: Comprar leche, Descripción: Comprar leche descremada en el supermercado., Estado: Pendiente\n",
      "Conexión a MongoDB Atlas exitosa!\n",
      "Consultando archivos para la tarea ID: 3\n",
      "ID: 4, Título: Comprar leche, Descripción: Comprar leche descremada en el supermercado., Estado: Pendiente\n",
      "Conexión a MongoDB Atlas exitosa!\n",
      "Consultando archivos para la tarea ID: 4\n",
      "ID: 5, Título: Comprar leche, Descripción:  en el supermercado., Estado: Pendiente\n",
      "Conexión a MongoDB Atlas exitosa!\n",
      "Consultando archivos para la tarea ID: 5\n",
      "ID: 6, Título: Llamar al médico, Descripción: Pedir cita para el ., Estado: Pendiente\n",
      "Conexión a MongoDB Atlas exitosa!\n",
      "Consultando archivos para la tarea ID: 6\n",
      "ID: 7, Título: Comprar leche, Descripción:  11111en el supermercado., Estado: Pendiente\n",
      "Conexión a MongoDB Atlas exitosa!\n",
      "Consultando archivos para la tarea ID: 7\n",
      "ID: 8, Título: Llamar al médico, Descripción: 111111Pedir cita para el ., Estado: Pendiente\n",
      "Conexión a MongoDB Atlas exitosa!\n",
      "Consultando archivos para la tarea ID: 8\n",
      "Host: 127.0.0.1, User: root, Password: Admin123, Database: tarea_viva, Port: 3306\n",
      "Base de datos 'tarea_viva' seleccionada correctamente.\n",
      "Tarea con ID 1 eliminada con éxito.\n",
      "Host: 127.0.0.1, User: root, Password: Admin123, Database: tarea_viva, Port: 3306\n",
      "Base de datos 'tarea_viva' seleccionada correctamente.\n",
      "Lista de tareas:\n",
      "ID: 2, Título: Llamar al médico, Descripción: Pedir cita para el próximo mes., Estado: Pendiente\n",
      "Conexión a MongoDB Atlas exitosa!\n",
      "Consultando archivos para la tarea ID: 2\n",
      "Archivo encontrado: <mongo_models.Archivo object at 0x0000021F2A649CD0>\n",
      "Tarea ID: 2, Nombre: Taller de Análisis.pdf, Tipo: Taller de Análisis, Ruta: C:/Users/Fernando/Downloads/Taller de Análisis.pdf\n",
      "ID: 3, Título: Comprar leche, Descripción: Comprar leche descremada en el supermercado., Estado: Pendiente\n",
      "Conexión a MongoDB Atlas exitosa!\n",
      "Consultando archivos para la tarea ID: 3\n",
      "ID: 4, Título: Comprar leche, Descripción: Comprar leche descremada en el supermercado., Estado: Pendiente\n",
      "Conexión a MongoDB Atlas exitosa!\n",
      "Consultando archivos para la tarea ID: 4\n",
      "ID: 5, Título: Comprar leche, Descripción:  en el supermercado., Estado: Pendiente\n",
      "Conexión a MongoDB Atlas exitosa!\n",
      "Consultando archivos para la tarea ID: 5\n",
      "ID: 6, Título: Llamar al médico, Descripción: Pedir cita para el ., Estado: Pendiente\n",
      "Conexión a MongoDB Atlas exitosa!\n",
      "Consultando archivos para la tarea ID: 6\n",
      "ID: 7, Título: Comprar leche, Descripción:  11111en el supermercado., Estado: Pendiente\n",
      "Conexión a MongoDB Atlas exitosa!\n",
      "Consultando archivos para la tarea ID: 7\n",
      "ID: 8, Título: Llamar al médico, Descripción: 111111Pedir cita para el ., Estado: Pendiente\n",
      "Conexión a MongoDB Atlas exitosa!\n",
      "Consultando archivos para la tarea ID: 8\n"
     ]
    }
   ],
   "source": [
    "# Crear una tarea\n",
    "crear_tarea(\"Comprar leche\", \" 11111en el supermercado.\")\n",
    "\n",
    "# Consultar todas las tareas\n",
    "consultar_tareas()\n",
    "\n",
    "# Crear otra tarea\n",
    "crear_tarea(\"Llamar al médico\", \"111111Pedir cita para el .\")\n",
    "\n",
    "# Consultar todas las tareas nuevamente\n",
    "consultar_tareas()\n",
    "\n",
    "# Eliminar la primera tarea (ID 1)\n",
    "eliminar_tarea(1)\n",
    "\n",
    "# Consultar todas las tareas después de eliminar\n",
    "consultar_tareas()"
   ]
  },
  {
   "cell_type": "code",
   "execution_count": null,
   "metadata": {},
   "outputs": [
    {
     "name": "stdout",
     "output_type": "stream",
     "text": [
      "Conexión a MongoDB Atlas exitosa!\n"
     ]
    }
   ],
   "source": [
    "#conexión a MongoDB\n",
    "from mongo_config import get_mongo_client, close_mongo_client\n",
    "\n",
    "client = get_mongo_client()\n",
    "\n",
    "if client:\n",
    "    close_mongo_client(client)"
   ]
  },
  {
   "cell_type": "code",
   "execution_count": 5,
   "metadata": {},
   "outputs": [],
   "source": [
    "from mongo_config import get_mongo_client, close_mongo_client\n",
    "from mongo_models import Archivo\n",
    "\n",
    "def agregar_archivo(tarea_id, nombre_archivo, tipo_archivo, ruta_archivo):\n",
    "    try:\n",
    "        client = get_mongo_client()\n",
    "        if client:\n",
    "            db = client.tareaviva_db\n",
    "            collection = db.archivos\n",
    "            archivo = Archivo(tarea_id, nombre_archivo, tipo_archivo, ruta_archivo)\n",
    "            collection.insert_one(archivo.to_dict())\n",
    "            print(f\"Archivo '{nombre_archivo}' agregado con éxito.\")\n",
    "            close_mongo_client(client)\n",
    "    except Exception as e:\n",
    "        print(f\"Error al agregar el archivo: {e}\")\n",
    "\n",
    "def consultar_archivos(tarea_id):\n",
    "    try:\n",
    "        client = get_mongo_client()\n",
    "        if client:\n",
    "            db = client.tareaviva_db\n",
    "            collection = db.archivos\n",
    "            print(f\"Consultando archivos para la tarea ID: {tarea_id}\")  # Mensaje de depuración\n",
    "            archivos = collection.find({\"tarea_id\": tarea_id})\n",
    "            for archivo in archivos:\n",
    "                archivo_obj = Archivo.from_dict(archivo)\n",
    "                print(f\"Archivo encontrado: {archivo_obj}\")  # Mensaje de depuración\n",
    "                print(f\"Tarea ID: {archivo_obj.tarea_id}, Nombre: {archivo_obj.nombre_archivo}, Tipo: {archivo_obj.tipo_archivo}, Ruta: {archivo_obj.ruta_archivo}\")\n",
    "            close_mongo_client(client)\n",
    "        else:\n",
    "            print(\"No se pudo conectar a MongoDB Atlas.\")\n",
    "    except Exception as e:\n",
    "        print(f\"Error al consultar los archivos: {e}\")"
   ]
  },
  {
   "cell_type": "code",
   "execution_count": null,
   "metadata": {},
   "outputs": [
    {
     "name": "stdout",
     "output_type": "stream",
     "text": [
      "Conexión a MongoDB Atlas exitosa!\n",
      "Archivo 'imagen1.jpg' agregado con éxito.\n",
      "Conexión a MongoDB Atlas exitosa!\n",
      "Tarea ID: 1, Nombre: imagen1.jpg, Tipo: imagen, Ruta: /ruta/a/imagen1.jpg\n",
      "Tarea ID: 1, Nombre: documento1.pdf, Tipo: documento, Ruta: /ruta/a/documento1.pdf\n",
      "Tarea ID: 1, Nombre: hello!.jpg, Tipo: imagen hello!, Ruta: C:Users/Fernando/Downloads/hello!.jpg\n",
      "Tarea ID: 1, Nombre: Terminos-y-Condiciones-Concurso-Capital-Semilla-MAR-2025-LOW.pdf, Tipo: Terminos-y-Condiciones-Concurso-Capital-Semilla-MAR-2025-LOW, Ruta: C:/Users/Fernando/Downloads/Terminos-y-Condiciones-Concurso-Capital-Semilla-MAR-2025-LOW.pdf\n",
      "Tarea ID: 1, Nombre: imagen1.jpg, Tipo: imagen, Ruta: /ruta/a/imagen1.jpg\n"
     ]
    }
   ],
   "source": [
    "agregar_archivo(1, \"imagen1.jpg\", \"imagen\", \"/ruta/a/imagen1.jpg\")\n",
    "consultar_archivos(1)"
   ]
  },
  {
   "cell_type": "code",
   "execution_count": 6,
   "metadata": {},
   "outputs": [
    {
     "name": "stdout",
     "output_type": "stream",
     "text": [
      "Conexión a MongoDB Atlas exitosa!\n",
      "Archivo 'documento1.pdf' agregado con éxito.\n"
     ]
    }
   ],
   "source": [
    "agregar_archivo(1, \"documento1.pdf\", \"documento\", \"/ruta/a/documento1.pdf\")"
   ]
  },
  {
   "cell_type": "code",
   "execution_count": 17,
   "metadata": {},
   "outputs": [
    {
     "name": "stdout",
     "output_type": "stream",
     "text": [
      "Conexión a MongoDB Atlas exitosa!\n",
      "Consultando archivos para la tarea ID: 8\n"
     ]
    }
   ],
   "source": [
    "consultar_archivos(8)"
   ]
  },
  {
   "cell_type": "code",
   "execution_count": 8,
   "metadata": {},
   "outputs": [
    {
     "name": "stdout",
     "output_type": "stream",
     "text": [
      "Conexión a MongoDB Atlas exitosa!\n",
      "Archivo 'hello!.jpg' agregado con éxito.\n",
      "Conexión a MongoDB Atlas exitosa!\n",
      "Archivo 'Terminos-y-Condiciones-Concurso-Capital-Semilla-MAR-2025-LOW.pdf' agregado con éxito.\n"
     ]
    }
   ],
   "source": [
    "agregar_archivo(1, \"hello!.jpg\", \"imagen hello!\", \"C:Users/Fernando/Downloads/hello!.jpg\")\n",
    "agregar_archivo(1, \"Terminos-y-Condiciones-Concurso-Capital-Semilla-MAR-2025-LOW.pdf\", \"Terminos-y-Condiciones-Concurso-Capital-Semilla-MAR-2025-LOW\", \"C:/Users/Fernando/Downloads/Terminos-y-Condiciones-Concurso-Capital-Semilla-MAR-2025-LOW.pdf\")\n"
   ]
  },
  {
   "cell_type": "code",
   "execution_count": 9,
   "metadata": {},
   "outputs": [
    {
     "name": "stdout",
     "output_type": "stream",
     "text": [
      "Conexión a MongoDB Atlas exitosa!\n",
      "Consultando archivos para la tarea ID: 1\n",
      "Archivo encontrado: <mongo_models.Archivo object at 0x0000021F2AF7E250>\n",
      "Tarea ID: 1, Nombre: imagen1.jpg, Tipo: imagen, Ruta: /ruta/a/imagen1.jpg\n",
      "Archivo encontrado: <mongo_models.Archivo object at 0x0000021F2B062120>\n",
      "Tarea ID: 1, Nombre: documento1.pdf, Tipo: documento, Ruta: /ruta/a/documento1.pdf\n",
      "Archivo encontrado: <mongo_models.Archivo object at 0x0000021F2B0619A0>\n",
      "Tarea ID: 1, Nombre: hello!.jpg, Tipo: imagen hello!, Ruta: C:Users/Fernando/Downloads/hello!.jpg\n",
      "Archivo encontrado: <mongo_models.Archivo object at 0x0000021F2B0535B0>\n",
      "Tarea ID: 1, Nombre: Terminos-y-Condiciones-Concurso-Capital-Semilla-MAR-2025-LOW.pdf, Tipo: Terminos-y-Condiciones-Concurso-Capital-Semilla-MAR-2025-LOW, Ruta: C:/Users/Fernando/Downloads/Terminos-y-Condiciones-Concurso-Capital-Semilla-MAR-2025-LOW.pdf\n",
      "Archivo encontrado: <mongo_models.Archivo object at 0x0000021F2B0526D0>\n",
      "Tarea ID: 1, Nombre: imagen1.jpg, Tipo: imagen, Ruta: /ruta/a/imagen1.jpg\n",
      "Archivo encontrado: <mongo_models.Archivo object at 0x0000021F2AB864E0>\n",
      "Tarea ID: 1, Nombre: documento1.pdf, Tipo: documento, Ruta: /ruta/a/documento1.pdf\n",
      "Archivo encontrado: <mongo_models.Archivo object at 0x0000021F2AF1C950>\n",
      "Tarea ID: 1, Nombre: hello!.jpg, Tipo: imagen hello!, Ruta: C:Users/Fernando/Downloads/hello!.jpg\n",
      "Archivo encontrado: <mongo_models.Archivo object at 0x0000021F2AF1CAD0>\n",
      "Tarea ID: 1, Nombre: Terminos-y-Condiciones-Concurso-Capital-Semilla-MAR-2025-LOW.pdf, Tipo: Terminos-y-Condiciones-Concurso-Capital-Semilla-MAR-2025-LOW, Ruta: C:/Users/Fernando/Downloads/Terminos-y-Condiciones-Concurso-Capital-Semilla-MAR-2025-LOW.pdf\n",
      "Conexión a MongoDB Atlas exitosa!\n",
      "Consultando archivos para la tarea ID: 2\n"
     ]
    }
   ],
   "source": [
    "consultar_archivos(1)  # Consulta los archivos asociados con la tarea 1\n",
    "consultar_archivos(2)  # Consulta los archivos asociados con la tarea 2"
   ]
  },
  {
   "cell_type": "code",
   "execution_count": 11,
   "metadata": {},
   "outputs": [
    {
     "name": "stdout",
     "output_type": "stream",
     "text": [
      "Conexión a MongoDB Atlas exitosa!\n",
      "Archivo 'Taller de Análisis.pdf' agregado con éxito.\n"
     ]
    }
   ],
   "source": [
    "agregar_archivo(2, \"Taller de Análisis.pdf\", \"Taller de Análisis\", \"C:/Users/Fernando/Downloads/Taller de Análisis.pdf\")"
   ]
  }
 ],
 "metadata": {
  "kernelspec": {
   "display_name": "Python 3",
   "language": "python",
   "name": "python3"
  },
  "language_info": {
   "codemirror_mode": {
    "name": "ipython",
    "version": 3
   },
   "file_extension": ".py",
   "mimetype": "text/x-python",
   "name": "python",
   "nbconvert_exporter": "python",
   "pygments_lexer": "ipython3",
   "version": "3.13.2"
  }
 },
 "nbformat": 4,
 "nbformat_minor": 2
}
