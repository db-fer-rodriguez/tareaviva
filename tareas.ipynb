{
 "cells": [
  {
   "cell_type": "code",
   "execution_count": 2,
   "metadata": {},
   "outputs": [
    {
     "name": "stdout",
     "output_type": "stream",
     "text": [
      "Host: None, User: None, Password: None, Database: None, Port: 3306\n",
      "Error al conectar a MySQL: 2017 (HY000): Can't open named pipe to host: .  pipe: MySQL (2)\n",
      "No se pudo conectar a MySQL.\n"
     ]
    }
   ],
   "source": [
    "from mysql_config import get_mysql_connection, close_mysql_connection\n",
    "\n",
    "connection = get_mysql_connection()\n",
    "\n",
    "if connection:\n",
    "    print(\"Conexión a MySQL exitosa!\")\n",
    "    close_mysql_connection(connection)\n",
    "else:\n",
    "    print(\"No se pudo conectar a MySQL.\")"
   ]
  }
 ],
 "metadata": {
  "kernelspec": {
   "display_name": "Python 3",
   "language": "python",
   "name": "python3"
  },
  "language_info": {
   "codemirror_mode": {
    "name": "ipython",
    "version": 3
   },
   "file_extension": ".py",
   "mimetype": "text/x-python",
   "name": "python",
   "nbconvert_exporter": "python",
   "pygments_lexer": "ipython3",
   "version": "3.13.2"
  }
 },
 "nbformat": 4,
 "nbformat_minor": 2
}
